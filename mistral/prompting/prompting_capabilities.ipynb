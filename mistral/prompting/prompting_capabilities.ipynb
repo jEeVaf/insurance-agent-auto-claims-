{
  "cells": [
    {
      "cell_type": "markdown",
      "id": "5d7f6058-d0d1-44af-b43a-cb4b06df03d8",
      "metadata": {
        "id": "5d7f6058-d0d1-44af-b43a-cb4b06df03d8"
      },
      "source": [
        "# Prompting Capabilities\n",
        "\n",
        "When you first start using Mistral models, your first interaction will revolve around prompts. The art of crafting effective prompts is essential for generating desirable responses from Mistral models or other LLMs. This guide will walk you through example prompts showing four different prompting capabilities.\n",
        "\n",
        "- Classification\n",
        "- Summarization\n",
        "- Personalization\n",
        "- Evaluation\n"
      ]
    },
    {
      "cell_type": "code",
      "execution_count": 1,
      "id": "daa37d97-10e4-425d-b852-15bd043662b9",
      "metadata": {
        "id": "daa37d97-10e4-425d-b852-15bd043662b9",
        "outputId": "ec811bd7-21ff-4b7b-97c9-703aea019eb5",
        "colab": {
          "base_uri": "https://localhost:8080/"
        }
      },
      "outputs": [
        {
          "output_type": "stream",
          "name": "stdout",
          "text": [
            "Collecting mistralai\n",
            "  Downloading mistralai-1.5.0-py3-none-any.whl.metadata (29 kB)\n",
            "Collecting eval-type-backport>=0.2.0 (from mistralai)\n",
            "  Downloading eval_type_backport-0.2.2-py3-none-any.whl.metadata (2.2 kB)\n",
            "Requirement already satisfied: httpx>=0.27.0 in /usr/local/lib/python3.11/dist-packages (from mistralai) (0.28.1)\n",
            "Collecting jsonpath-python>=1.0.6 (from mistralai)\n",
            "  Downloading jsonpath_python-1.0.6-py3-none-any.whl.metadata (12 kB)\n",
            "Requirement already satisfied: pydantic>=2.9.0 in /usr/local/lib/python3.11/dist-packages (from mistralai) (2.10.6)\n",
            "Requirement already satisfied: python-dateutil>=2.8.2 in /usr/local/lib/python3.11/dist-packages (from mistralai) (2.8.2)\n",
            "Collecting typing-inspect>=0.9.0 (from mistralai)\n",
            "  Downloading typing_inspect-0.9.0-py3-none-any.whl.metadata (1.5 kB)\n",
            "Requirement already satisfied: anyio in /usr/local/lib/python3.11/dist-packages (from httpx>=0.27.0->mistralai) (3.7.1)\n",
            "Requirement already satisfied: certifi in /usr/local/lib/python3.11/dist-packages (from httpx>=0.27.0->mistralai) (2025.1.31)\n",
            "Requirement already satisfied: httpcore==1.* in /usr/local/lib/python3.11/dist-packages (from httpx>=0.27.0->mistralai) (1.0.7)\n",
            "Requirement already satisfied: idna in /usr/local/lib/python3.11/dist-packages (from httpx>=0.27.0->mistralai) (3.10)\n",
            "Requirement already satisfied: h11<0.15,>=0.13 in /usr/local/lib/python3.11/dist-packages (from httpcore==1.*->httpx>=0.27.0->mistralai) (0.14.0)\n",
            "Requirement already satisfied: annotated-types>=0.6.0 in /usr/local/lib/python3.11/dist-packages (from pydantic>=2.9.0->mistralai) (0.7.0)\n",
            "Requirement already satisfied: pydantic-core==2.27.2 in /usr/local/lib/python3.11/dist-packages (from pydantic>=2.9.0->mistralai) (2.27.2)\n",
            "Requirement already satisfied: typing-extensions>=4.12.2 in /usr/local/lib/python3.11/dist-packages (from pydantic>=2.9.0->mistralai) (4.12.2)\n",
            "Requirement already satisfied: six>=1.5 in /usr/local/lib/python3.11/dist-packages (from python-dateutil>=2.8.2->mistralai) (1.17.0)\n",
            "Collecting mypy-extensions>=0.3.0 (from typing-inspect>=0.9.0->mistralai)\n",
            "  Downloading mypy_extensions-1.0.0-py3-none-any.whl.metadata (1.1 kB)\n",
            "Requirement already satisfied: sniffio>=1.1 in /usr/local/lib/python3.11/dist-packages (from anyio->httpx>=0.27.0->mistralai) (1.3.1)\n",
            "Downloading mistralai-1.5.0-py3-none-any.whl (271 kB)\n",
            "\u001b[2K   \u001b[90m━━━━━━━━━━━━━━━━━━━━━━━━━━━━━━━━━━━━━━━━\u001b[0m \u001b[32m271.6/271.6 kB\u001b[0m \u001b[31m9.1 MB/s\u001b[0m eta \u001b[36m0:00:00\u001b[0m\n",
            "\u001b[?25hDownloading eval_type_backport-0.2.2-py3-none-any.whl (5.8 kB)\n",
            "Downloading jsonpath_python-1.0.6-py3-none-any.whl (7.6 kB)\n",
            "Downloading typing_inspect-0.9.0-py3-none-any.whl (8.8 kB)\n",
            "Downloading mypy_extensions-1.0.0-py3-none-any.whl (4.7 kB)\n",
            "Installing collected packages: mypy-extensions, jsonpath-python, eval-type-backport, typing-inspect, mistralai\n",
            "Successfully installed eval-type-backport-0.2.2 jsonpath-python-1.0.6 mistralai-1.5.0 mypy-extensions-1.0.0 typing-inspect-0.9.0\n"
          ]
        }
      ],
      "source": [
        "! pip install mistralai"
      ]
    },
    {
      "cell_type": "code",
      "execution_count": 2,
      "id": "ae93e75a-fd20-4ca6-9eff-bef7d44ab3a9",
      "metadata": {
        "id": "ae93e75a-fd20-4ca6-9eff-bef7d44ab3a9"
      },
      "outputs": [],
      "source": [
        "from mistralai import Mistral"
      ]
    },
    {
      "cell_type": "code",
      "execution_count": 3,
      "id": "99ff9378-c059-4063-a8a0-9ec1d1186954",
      "metadata": {
        "id": "99ff9378-c059-4063-a8a0-9ec1d1186954"
      },
      "outputs": [],
      "source": [
        "api_key = \"pqasiJq4yTj3cmPgIIaAbL5ATv09acYa\""
      ]
    },
    {
      "cell_type": "code",
      "execution_count": 4,
      "id": "e030d9c2-1ecb-4bf0-864d-9f96b41bd016",
      "metadata": {
        "id": "e030d9c2-1ecb-4bf0-864d-9f96b41bd016"
      },
      "outputs": [],
      "source": [
        "def run_mistral(user_message, model=\"mistral-large-latest\"):\n",
        "    client = Mistral(api_key=api_key)\n",
        "    messages = [\n",
        "        {\"role\":\"user\", \"content\":user_message}\n",
        "    ]\n",
        "    chat_response = client.chat.complete(\n",
        "        model=model,\n",
        "        messages=messages\n",
        "    )\n",
        "    return (chat_response.choices[0].message.content)"
      ]
    },
    {
      "cell_type": "markdown",
      "id": "b98a29ef-4764-40b7-aed8-0e5d0502f985",
      "metadata": {
        "id": "b98a29ef-4764-40b7-aed8-0e5d0502f985"
      },
      "source": [
        "## Classification\n",
        "Mistral models can easily categorize text into distinct classes. In this example prompt, we can define a list of predefined categories and ask Mistral models to classify user inquiry.\n",
        "\n"
      ]
    },
    {
      "cell_type": "code",
      "execution_count": 31,
      "id": "d71e9d1c-ca45-4d19-882c-07e077ea19ad",
      "metadata": {
        "id": "d71e9d1c-ca45-4d19-882c-07e077ea19ad"
      },
      "outputs": [],
      "source": [
        "def user_message(inquiry):\n",
        "    user_message = (\n",
        "        f\"\"\"\n",
        "        You are a seasoned detective investigating a potentially fraudulent auto insurance claim. Your task is to thoroughly scrutinize the claim narrative by asking a series of detailed, probing questions that help uncover any inconsistencies, missing details, or red flags that might indicate fraud.\n",
        "\n",
        "Please follow this structured process:\n",
        "\n",
        "1. **Review the Claim Narrative:**\n",
        "   - Carefully read the provided story. Identify any vague areas, contradictions, or unusually detailed sections that seem inconsistent.\n",
        "\n",
        "2. **Investigate Accident Details:**\n",
        "   - What was the exact time and location of the accident? (e.g., \"Can you specify the date, time, and exact location where the accident occurred?\")\n",
        "   - What were the weather and lighting conditions at the time of the accident?\n",
        "   - Could you describe how the collision happened, including the sequence of events and any contributing factors?\n",
        "\n",
        "3. **Examine Vehicle Damage:**\n",
        "   - How extensive is the damage reported? Are there photographs or videos available?\n",
        "   - Do the photos match the repair invoice and the reported repair costs? (e.g., \"Can you explain any discrepancies between the visible damage in the photos and the high repair costs?\")\n",
        "   - Were multiple repair quotes obtained? If not, why was only one repair shop used?\n",
        "\n",
        "4. **Scrutinize Injury Claims:**\n",
        "   - What injuries did the claimant report? Are there medical reports to support these claims?\n",
        "   - How do the reported injuries correlate with the severity of the accident? (e.g., \"Given the minor nature of the collision, can you provide detailed medical documentation to justify the severity of the injuries claimed?\")\n",
        "\n",
        "5. **Review Claim History and Repair Shop Usage:**\n",
        "   - Has the claimant submitted similar claims in the past? If so, what were the outcomes of those claims?\n",
        "   - Does the claimant frequently use the same repair shop? Could there be a pattern of collusion between the claimant and that shop?\n",
        "\n",
        "6. **Seek Additional Supporting Evidence:**\n",
        "   - Are there witness statements, surveillance footage, or additional documentation that corroborate the claim narrative?\n",
        "   - Can the claimant provide contact information for any witnesses or other supporting evidence that might clarify the incident?\n",
        "\n",
        "7. **Probe for Inconsistencies and Anomalies:**\n",
        "   - Are there any details in the narrative that seem unusually vague or overly detailed without clear explanation?\n",
        "   - Is there a significant delay between the accident, the claim filing, and the repair process? If so, what caused the delay?\n",
        "        <<<\n",
        "        Inquiry: {inquiry}\n",
        "        >>>\n",
        "        \"\"\"\n",
        "    )\n",
        "    return user_message"
      ]
    },
    {
      "cell_type": "code",
      "execution_count": null,
      "id": "f8b208e1",
      "metadata": {
        "id": "f8b208e1"
      },
      "outputs": [],
      "source": []
    },
    {
      "cell_type": "markdown",
      "id": "8863460a-7670-4b6f-b511-cf1df7693cfa",
      "metadata": {
        "id": "8863460a-7670-4b6f-b511-cf1df7693cfa"
      },
      "source": [
        "### Strategies we used:\n",
        "\n",
        "- **Few shot learning**: Few-shot learning or in-context learning is when we give a few examples in the prompts, and the LLM can generate corresponding output based on the example demonstrations. Few-shot learning can often improve model performance especially when the task is difficult or when we want the model to respond in a specific manner.\n",
        "- **Delimiter**: Delimiters like ### <<< >>> specify the boundary between different sections of the text. In our example, we used ### to indicate examples and <<<>>> to indicate customer inquiry.\n",
        "- **Role playing**: Providing LLM a role (e.g., \"You are a bank customer service bot.\") adds personal context to the model and often leads to better performance."
      ]
    },
    {
      "cell_type": "code",
      "execution_count": 32,
      "id": "9d8a83cc-31e6-4d4b-b252-93d9133ecbf5",
      "metadata": {
        "colab": {
          "base_uri": "https://localhost:8080/"
        },
        "id": "9d8a83cc-31e6-4d4b-b252-93d9133ecbf5",
        "outputId": "34aa7540-337a-46db-9c93-50d6d6b7b9f6"
      },
      "outputs": [
        {
          "output_type": "stream",
          "name": "stdout",
          "text": [
            "Let's follow the structured process to thoroughly scrutinize John Doe's auto insurance claim:\n",
            "\n",
            "### 1. Review the Claim Narrative\n",
            "**Identified Issues:**\n",
            "- Discrepancy between the reported damage and the photographic evidence.\n",
            "- Inconsistency between the repair invoice costs and the visible repairs.\n",
            "- Vague and sparse medical documentation for claimed injuries.\n",
            "- Pattern of inflated claims in past history.\n",
            "\n",
            "### 2. Investigate Accident Details\n",
            "**Questions to Ask:**\n",
            "- Can you specify the date, time, and exact location where the accident occurred?\n",
            "- What were the weather and lighting conditions at the time of the accident?\n",
            "- Could you describe in detail how the shopping cart collided with your vehicle? What was the sequence of events leading up to the collision?\n",
            "- Were there any other vehicles or pedestrians in the vicinity at the time of the accident?\n",
            "\n",
            "### 3. Examine Vehicle Damage\n",
            "**Questions to Ask:**\n",
            "- The photographs show only minor scrapes and a small dent on the bumper. Can you explain why the damage appears less severe than your description of \"severe dents to the bumper, significant damage to the hood, and a shattered windshield\"?\n",
            "- Are there any additional photographs or videos of the damage that were not included in the initial submission?\n",
            "- The repair invoice from ABC Auto Repairs is for $4,500, which is significantly higher than typical repair costs for a minor collision. Can you explain the discrepancy between the visible damage in the photos and the high repair costs?\n",
            "- Were multiple repair quotes obtained, or was only one repair shop used? If only one, why was this the case?\n",
            "\n",
            "### 4. Scrutinize Injury Claims\n",
            "**Questions to Ask:**\n",
            "- What specific injuries did you report, and are there detailed medical reports to support these claims?\n",
            "- Given the minor nature of the collision, can you provide detailed medical documentation to justify the severity of the injuries claimed?\n",
            "- The medical report attached to your claim lacks clear diagnostic evidence or test results. Can you provide additional documentation or clarify these details?\n",
            "\n",
            "### 5. Review Claim History and Repair Shop Usage\n",
            "**Questions to Ask:**\n",
            "- Has the claimant submitted similar claims in the past? If so, what were the outcomes of those claims?\n",
            "- Do you frequently use ABC Auto Repairs for vehicle repairs? Could there be a pattern of collusion between you and this repair shop?\n",
            "- Can you provide a history of your past claims and the repair shops used?\n",
            "\n",
            "### 6. Seek Additional Supporting Evidence\n",
            "**Questions to Ask:**\n",
            "- Are there witness statements, surveillance footage, or additional documentation that corroborate the claim narrative?\n",
            "- Can you provide contact information for any witnesses or other supporting evidence that might clarify the incident?\n",
            "\n",
            "### 7. Probe for Inconsistencies and Anomalies\n",
            "**Questions to Ask:**\n",
            "- Are there any details in the narrative that seem unusually vague or overly detailed without clear explanation?\n",
            "- Is there a significant delay between the accident, the claim filing, and the repair process? If so, what caused the delay?\n",
            "- Why is there a discrepancy between the hospital records and the severity of the injuries described in your claim?\n",
            "\n",
            "### Additional Questions:\n",
            "- Can you provide any receipts or proof of purchase for the premium parts mentioned in the repair invoice?\n",
            "- Are there any records or documentation from the hospital visit that can provide more detailed diagnostic evidence or test results?\n",
            "- Have you consulted with any other medical professionals regarding your injuries, and if so, can you provide their reports?\n",
            "\n",
            "By systematically asking these questions, we can uncover any inconsistencies, missing details, or red flags that might indicate fraud in John Doe's auto insurance claim.\n"
          ]
        }
      ],
      "source": [
        "print(run_mistral(user_message(\n",
        "    \"John Doe, a 48-year-old long-time policyholder, submitted an auto insurance claim for an incident that occurred on May 10, 2024\"\n",
        "    \"According to his report, while driving home on a quiet suburban street during the early evening, a stray shopping cart suddenly collided with his vehicle. John described the impact as forceful enough to cause extensive damage to his car’s front end—including severe dents to the bumper, significant damage to \"\n",
        "    \"he hood, and a shattered windshield\"\n",
        "\n",
        "    \"However, the evidence he provided raises several red flags:\"\n",
        "\n",
        "\"Photo Evidence vs. Damage Report:\"\n",
        "\"The photographs John submitted show only minor scrapes and a small dent on the bumper. There is no visible evidence of the extensive damage he described. The discrepancy between his written account and the images is striking.\"\n",
        "\n",
        "\"Inflated Repair Invoice:\"\n",
        "\"The repair shop he chose, “ABC Auto Repairs,” submitted an invoice totaling $4,500. Industry experts note that for a minor collision on a suburban road, typical repair costs should be closer to $2,000. The invoice cites premium parts and extra labor, yet the repaired vehicle’s photos do not convincingly reflect such an extensive repair job.\"\n",
        "\n",
        "\"Inconsistent Medical Documentation:\"\n",
        "\"John also claimed to have suffered whiplash and other injuries requiring emergency treatment. However, the medical report attached to his claim is sparse on details—lacking clear diagnostic evidence or test results—and the hospital records do not match the severity described. This vagueness in his injury documentation further fuels suspicions.\"\n",
        "\n",
        "\"Past Claim History:\"\n",
        "\"A review of John’s insurance history reveals multiple prior claims where the reported damages were consistently more severe than the photographic evidence. This pattern suggests a possible recurring strategy to inflate claims\"\n",
        ")))"
      ]
    },
    {
      "cell_type": "code",
      "execution_count": 9,
      "id": "d6eca06b-7b1d-4663-9a68-2a23116f8c6e",
      "metadata": {
        "colab": {
          "base_uri": "https://localhost:8080/"
        },
        "id": "d6eca06b-7b1d-4663-9a68-2a23116f8c6e",
        "outputId": "1bf13736-9832-4b87-ea30-fea5b6e2c903"
      },
      "outputs": [
        {
          "output_type": "stream",
          "name": "stdout",
          "text": [
            "exchange rate\n"
          ]
        }
      ],
      "source": [
        "print(run_mistral(user_message(\"trip to Paris and would like to inquire about the current exchange rates for Euros\")))"
      ]
    },
    {
      "cell_type": "markdown",
      "id": "9f351f00-683a-4244-974f-5c719812141f",
      "metadata": {
        "id": "9f351f00-683a-4244-974f-5c719812141f"
      },
      "source": [
        "## Summarization\n",
        "\n",
        "Summarization is a common task for LLMs due to their natural language understanding and generation capabilities. Here is an example prompt we can use to generate interesting questions about an essay and summarize the essay.\n"
      ]
    },
    {
      "cell_type": "code",
      "execution_count": 10,
      "id": "0bbab492-1d18-4832-86a9-2fba645e0e52",
      "metadata": {
        "id": "0bbab492-1d18-4832-86a9-2fba645e0e52"
      },
      "outputs": [],
      "source": [
        "import requests\n",
        "response = requests.get('https://raw.githubusercontent.com/run-llama/llama_index/main/docs/docs/examples/data/paul_graham/paul_graham_essay.txt')\n",
        "essay = response.text"
      ]
    },
    {
      "cell_type": "code",
      "execution_count": 11,
      "id": "eaede63d-7392-4f1c-8a87-507ee31fe246",
      "metadata": {
        "id": "eaede63d-7392-4f1c-8a87-507ee31fe246"
      },
      "outputs": [],
      "source": [
        "message = f\"\"\"\n",
        "You are a commentator. Your task is to write a report on an essay.\n",
        "When presented with the essay, come up with interesting questions to ask, and answer each question.\n",
        "Afterward, combine all the information and write a report in the markdown format.\n",
        "\n",
        "# Essay:\n",
        "{essay}\n",
        "\n",
        "# Instructions:\n",
        "## Summarize:\n",
        "In clear and concise language, summarize the key points and themes presented in the essay.\n",
        "\n",
        "## Interesting Questions:\n",
        "Generate three distinct and thought-provoking questions that can be asked about the content of the essay. For each question:\n",
        "- After \"Q: \", describe the problem\n",
        "- After \"A: \", provide a detailed explanation of the problem addressed in the question.\n",
        "- Enclose the ultimate answer in <>.\n",
        "\n",
        "## Write a report\n",
        "Using the essay summary and the answers to the interesting questions, create a comprehensive report in Markdown format.\n",
        "\"\"\""
      ]
    },
    {
      "cell_type": "code",
      "execution_count": 12,
      "id": "5505b0a5-411b-4804-aaef-ccecfa3d07be",
      "metadata": {
        "colab": {
          "base_uri": "https://localhost:8080/"
        },
        "id": "5505b0a5-411b-4804-aaef-ccecfa3d07be",
        "outputId": "9f041264-b1b5-41b6-c6e3-d992c5343028",
        "scrolled": true
      },
      "outputs": [
        {
          "output_type": "stream",
          "name": "stdout",
          "text": [
            "# Report on the Essay\n",
            "\n",
            "## Summary\n",
            "\n",
            "The essay chronicles the author's journey through various phases of his life, highlighting his early interests in writing and programming, his experiences with different educational institutions, and his professional endeavors in both the tech and art worlds. Key themes include the evolution of technology, the pursuit of intellectual and creative passions, and the challenges and rewards of entrepreneurship.\n",
            "\n",
            "The author's early programming experiences with the IBM 1401 and later with microcomputers underscore the transformative impact of technology on his life. His academic pursuits in philosophy and artificial intelligence (AI) reveal his intellectual curiosity and his evolving understanding of the limitations and potential of AI. The essay also delves into his experiences at Cornell, Harvard, and various art schools, highlighting the contrast between academic theory and practical application.\n",
            "\n",
            "The narrative shifts to the author's entrepreneurial ventures, including the founding of Viaweb, an online store builder, and later Y Combinator, a startup incubator. These experiences highlight the challenges of startup culture, the importance of innovation, and the value of practical, user-focused solutions. The essay concludes with reflections on the author's return to painting and his continued exploration of programming languages, emphasizing the importance of following one's passions and the enduring value of creative and intellectual pursuits.\n",
            "\n",
            "## Interesting Questions\n",
            "\n",
            "### Q1: How did the author's early experiences with programming shape his later entrepreneurial ventures?\n",
            "**A1:** The author's early programming experiences, particularly with the IBM 1401 and later with microcomputers, laid the foundation for his technical skills and his understanding of the potential of technology. These experiences also highlighted the importance of user-focused solutions and the value of iteration and experimentation. The author's early programming work taught him the importance of practical application and the need to adapt to new technologies, which were crucial skills in his later entrepreneurial ventures with Viaweb and Y Combinator.\n",
            "\n",
            "**<The author's early programming experiences were foundational to his technical skills and understanding of technology's potential, shaping his approach to user-focused solutions and iteration in his entrepreneurial ventures.>**\n",
            "\n",
            "### Q2: What role did academic institutions play in the author's intellectual and creative development?\n",
            "**A2:** Academic institutions played a significant role in the author's intellectual and creative development, but they also highlighted the limitations of traditional education. The author's experiences at Cornell, Harvard, and various art schools exposed him to new ideas and techniques, but they also revealed the disconnect between academic theory and practical application. This disconnect was particularly evident in his studies of philosophy and AI, where he found that the theoretical discussions often lacked real-world relevance.\n",
            "\n",
            "**<Academic institutions were instrumental in the author's intellectual and creative development, exposing him to new ideas and techniques, but they also highlighted the limitations of traditional education and the disconnect between theory and practice.>**\n",
            "\n",
            "### Q3: How did the author's entrepreneurial ventures influence his approach to creativity and innovation?\n",
            "**A3:** The author's entrepreneurial ventures, particularly Viaweb and Y Combinator, reinforced the importance of creativity and innovation in solving real-world problems. These ventures taught him the value of practical, user-focused solutions and the need to adapt to changing technologies and market demands. The author's experiences with Viaweb highlighted the importance of building scalable, user-friendly products, while his work with Y Combinator emphasized the value of supporting and mentoring young entrepreneurs.\n",
            "\n",
            "**<The author's entrepreneurial ventures reinforced the importance of creativity and innovation in solving real-world problems, emphasizing the value of practical, user-focused solutions and the need to adapt to changing technologies and market demands.>**\n",
            "\n",
            "## Report\n",
            "\n",
            "# Report on the Essay\n",
            "\n",
            "## Summary\n",
            "\n",
            "The essay chronicles the author's journey through various phases of his life, highlighting his early interests in writing and programming, his experiences with different educational institutions, and his professional endeavors in both the tech and art worlds. Key themes include the evolution of technology, the pursuit of intellectual and creative passions, and the challenges and rewards of entrepreneurship.\n",
            "\n",
            "The author's early programming experiences with the IBM 1401 and later with microcomputers underscore the transformative impact of technology on his life. His academic pursuits in philosophy and artificial intelligence (AI) reveal his intellectual curiosity and his evolving understanding of the limitations and potential of AI. The essay also delves into his experiences at Cornell, Harvard, and various art schools, highlighting the contrast between academic theory and practical application.\n",
            "\n",
            "The narrative shifts to the author's entrepreneurial ventures, including the founding of Viaweb, an online store builder, and later Y Combinator, a startup incubator. These experiences highlight the challenges of startup culture, the importance of innovation, and the value of practical, user-focused solutions. The essay concludes with reflections on the author's return to painting and his continued exploration of programming languages, emphasizing the importance of following one's passions and the enduring value of creative and intellectual pursuits.\n",
            "\n",
            "## Interesting Questions\n",
            "\n",
            "### Q1: How did the author's early experiences with programming shape his later entrepreneurial ventures?\n",
            "**A1:** The author's early programming experiences, particularly with the IBM 1401 and later with microcomputers, laid the foundation for his technical skills and his understanding of the potential of technology. These experiences also highlighted the importance of user-focused solutions and the value of iteration and experimentation. The author's early programming work taught him the importance of practical application and the need to adapt to new technologies, which were crucial skills in his later entrepreneurial ventures with Viaweb and Y Combinator.\n",
            "\n",
            "**<The author's early programming experiences were foundational to his technical skills and understanding of technology's potential, shaping his approach to user-focused solutions and iteration in his entrepreneurial ventures.>**\n",
            "\n",
            "### Q2: What role did academic institutions play in the author's intellectual and creative development?\n",
            "**A2:** Academic institutions played a significant role in the author's intellectual and creative development, but they also highlighted the limitations of traditional education. The author's experiences at Cornell, Harvard, and various art schools exposed him to new ideas and techniques, but they also revealed the disconnect between academic theory and practical application. This disconnect was particularly evident in his studies of philosophy and AI, where he found that the theoretical discussions often lacked real-world relevance.\n",
            "\n",
            "**<Academic institutions were instrumental in the author's intellectual and creative development, exposing him to new ideas and techniques, but they also highlighted the limitations of traditional education and the disconnect between theory and practice.>**\n",
            "\n",
            "### Q3: How did the author's entrepreneurial ventures influence his approach to creativity and innovation?\n",
            "**A3:** The author's entrepreneurial ventures, particularly Viaweb and Y Combinator, reinforced the importance of creativity and innovation in solving real-world problems. These ventures taught him the value of practical, user-focused solutions and the need to adapt to changing technologies and market demands. The author's experiences with Viaweb highlighted the importance of building scalable, user-friendly products, while his work with Y Combinator emphasized the value of supporting and mentoring young entrepreneurs.\n",
            "\n",
            "**<The author's entrepreneurial ventures reinforced the importance of creativity and innovation in solving real-world problems, emphasizing the value of practical, user-focused solutions and the need to adapt to changing technologies and market demands.>**\n"
          ]
        }
      ],
      "source": [
        "print(run_mistral(message))"
      ]
    },
    {
      "cell_type": "markdown",
      "id": "d3c1535e-1156-46bc-8e28-5f71846dbe65",
      "metadata": {
        "id": "d3c1535e-1156-46bc-8e28-5f71846dbe65"
      },
      "source": [
        "## Strategies we used:\n",
        "\n",
        "- **Step-by-step instructions**: This strategy is inspired by the chain-of-thought prompting that enables LLMs to use a series of intermediate reasoning steps to tackle complex tasks. It's often easier to solve complex problems when we decompose them into simpler and small steps and it's easier for us to debug and inspect the model behavior.  In our example, we break down the task into three steps: summarize, generate interesting questions, and write a report. This helps the language to think in each step and generate a more comprehensive final report.\n",
        "- **Example generation**: We can ask LLMs to automatically guide the reasoning and understanding process by generating examples with the explanations and steps. In this example, we ask the LLM to generate three questions and provide detailed explanations for each question.\n",
        "- **Output formatting**: We can ask LLMs to output in a certain format by directly asking \"write a report in the Markdown format\".\n",
        "\n"
      ]
    },
    {
      "cell_type": "markdown",
      "id": "d1a9cb95-bb08-4929-b16c-eb19877f3c01",
      "metadata": {
        "id": "d1a9cb95-bb08-4929-b16c-eb19877f3c01"
      },
      "source": [
        "## Personlization\n",
        "\n",
        "LLMs excel at personalization tasks as they can deliver content that aligns closely with individual users. In this example, we create personalized email responses to address customer questions."
      ]
    },
    {
      "cell_type": "code",
      "execution_count": null,
      "id": "9cf048b4-3e33-4753-af97-25b73c51ee6a",
      "metadata": {
        "id": "9cf048b4-3e33-4753-af97-25b73c51ee6a"
      },
      "outputs": [],
      "source": [
        "email = \"\"\"\n",
        "Dear mortgage lender,\n",
        "\n",
        "What's your 30-year fixed-rate APR, how is it compared to the 15-year fixed rate?\n",
        "\n",
        "Regards,\n",
        "Anna\n",
        "\"\"\""
      ]
    },
    {
      "cell_type": "code",
      "execution_count": null,
      "id": "36de7c1e-60c2-4f35-a51a-115b12d65bb6",
      "metadata": {
        "id": "36de7c1e-60c2-4f35-a51a-115b12d65bb6"
      },
      "outputs": [],
      "source": [
        "message = f\"\"\"\n",
        "\n",
        "You are a mortgage lender customer service bot, and your task is to create personalized email responses to address customer questions.\n",
        "Answer the customer's inquiry using the provided facts below. Ensure that your response is clear, concise, and\n",
        "directly addresses the customer's question. Address the customer in a friendly and professional manner. Sign the email with\n",
        "\"Lender Customer Support.\"\n",
        "\n",
        "\n",
        "\n",
        "# Facts\n",
        "30-year fixed-rate: interest rate 6.403%, APR 6.484%\n",
        "20-year fixed-rate: interest rate 6.329%, APR 6.429%\n",
        "15-year fixed-rate: interest rate 5.705%, APR 5.848%\n",
        "10-year fixed-rate: interest rate 5.500%, APR 5.720%\n",
        "7-year ARM: interest rate 7.011%, APR 7.660%\n",
        "5-year ARM: interest rate 6.880%, APR 7.754%\n",
        "3-year ARM: interest rate 6.125%, APR 7.204%\n",
        "30-year fixed-rate FHA: interest rate 5.527%, APR 6.316%\n",
        "30-year fixed-rate VA: interest rate 5.684%, APR 6.062%\n",
        "\n",
        "# Email\n",
        "{email}\n",
        "\"\"\""
      ]
    },
    {
      "cell_type": "code",
      "execution_count": null,
      "id": "aaf50774-0f91-4e0e-86c9-1525f6045ebb",
      "metadata": {
        "colab": {
          "base_uri": "https://localhost:8080/"
        },
        "id": "aaf50774-0f91-4e0e-86c9-1525f6045ebb",
        "outputId": "96d09488-eb15-4b55-f1fa-ec0a46d5db70",
        "scrolled": true
      },
      "outputs": [
        {
          "name": "stdout",
          "output_type": "stream",
          "text": [
            "Subject: Information on Our 30-Year and 15-Year Fixed-Rate Mortgages\n",
            "\n",
            "Dear Anna,\n",
            "\n",
            "Thank you for reaching out to us with your inquiry. I'm happy to provide you with the information you need to make an informed decision about your mortgage options.\n",
            "\n",
            "Our current 30-year fixed-rate mortgage has an Annual Percentage Rate (APR) of 6.484%. On the other hand, our 15-year fixed-rate mortgage has a lower APR of 5.848%.\n",
            "\n",
            "The difference in APR between the two options is 0.636%. While the 15-year fixed-rate mortgage has a lower APR, it's important to note that the monthly payments are typically higher due to the shorter repayment period. However, you'll pay less in interest over the life of the loan compared to the 30-year fixed-rate mortgage.\n",
            "\n",
            "I hope this information helps you in your decision-making process. If you have any more questions or would like further clarification, please don't hesitate to contact us.\n",
            "\n",
            "Best Regards,\n",
            "\n",
            "Lender Customer Support\n"
          ]
        }
      ],
      "source": [
        "print(run_mistral(message))"
      ]
    },
    {
      "cell_type": "markdown",
      "id": "0af53ac9-8ef1-4840-8b23-779e1d59204d",
      "metadata": {
        "id": "0af53ac9-8ef1-4840-8b23-779e1d59204d"
      },
      "source": [
        "### Strategies we used:\n",
        "- Providing facts: Incorporating facts into prompts can be useful for developing customer support bots. It’s important to use clear and concise language when presenting these facts. This can help the LLM to provide accurate and quick responses to customer queries.\n",
        "\n",
        "## Evaluation\n",
        "\n",
        "There are many ways to evaluate LLM outputs. Here are three approaches for your reference: include a confidence score, introduce an evaluation step, or employ another LLM for evaluation.\n",
        "\n",
        "\n",
        "\n",
        "## Include a confidence score\n",
        "We can include a confidence score along with the generated output in the prompt."
      ]
    },
    {
      "cell_type": "code",
      "execution_count": null,
      "id": "8bf511a7-1828-465c-92ed-a701e21b23da",
      "metadata": {
        "id": "8bf511a7-1828-465c-92ed-a701e21b23da"
      },
      "outputs": [],
      "source": [
        "def run_mistral(user_message, model=\"mistral-large-latest\"):\n",
        "    client = Mistral(api_key=api_key)\n",
        "    messages = [\n",
        "        {\n",
        "            \"role\":\"user\",\n",
        "            \"content\": user_message\n",
        "        }\n",
        "    ]\n",
        "    chat_response = client.chat.complete(\n",
        "        model=model,\n",
        "        messages=messages,\n",
        "        temperature=1,\n",
        "        response_format = {\n",
        "          \"type\": \"json_object\"\n",
        "        }\n",
        "    )\n",
        "    return (chat_response.choices[0].message.content)"
      ]
    },
    {
      "cell_type": "code",
      "execution_count": null,
      "id": "8087cae2-9b3b-407c-b808-31fd765fd6f4",
      "metadata": {
        "id": "8087cae2-9b3b-407c-b808-31fd765fd6f4"
      },
      "outputs": [],
      "source": [
        "message = f\"\"\"\n",
        "You are a summarization system that can provide summaries with associated confidence scores.\n",
        "In clear and concise language, provide three short summaries of the following essay, along with their confidence scores.\n",
        "You will only respond with a JSON object with the key Summary and Confidence. Do not provide explanations.\n",
        "\n",
        "# Essay:\n",
        "{essay}\n",
        "\n",
        "\"\"\""
      ]
    },
    {
      "cell_type": "code",
      "execution_count": null,
      "id": "1c7bfcee-ff8b-4c14-b9e8-7e00d3d389ad",
      "metadata": {
        "colab": {
          "base_uri": "https://localhost:8080/"
        },
        "id": "1c7bfcee-ff8b-4c14-b9e8-7e00d3d389ad",
        "outputId": "e1cc5e19-d082-4e72-da0c-b304311ae0ea"
      },
      "outputs": [
        {
          "name": "stdout",
          "output_type": "stream",
          "text": [
            "{\n",
            "\"Summary 1\": \"The author writes about their experience with writing and programming before college. They attempted to write programs on an IBM 1401, but struggled to find a purpose for them. They were later introduced to microcomputers and became interested in AI after reading a novel and seeing a documentary.\",\n",
            "\"Confidence 1\": 0.95\n",
            "},\n",
            "{\n",
            "\"Summary 2\": \"The author discusses their decision to switch from studying philosophy to AI in college. They were disappointed with the lack of depth in philosophy courses and saw potential in the field of AI. They began teaching themselves AI and Lisp.\",\n",
            "\"Confidence 2\": 0.9\n",
            "},\n",
            "{\n",
            "\"Summary 3\": \"The author reflects on their realization that AI, as practiced at the time, was not going to lead to true understanding of natural language. They decided to focus on Lisp instead and wrote a book about Lisp hacking.\",\n",
            "\"Confidence 3\": 0.85\n",
            "}\n"
          ]
        }
      ],
      "source": [
        "print(run_mistral(message))"
      ]
    },
    {
      "cell_type": "markdown",
      "id": "8649ad18-10c0-4fb0-92cc-052e2ab75342",
      "metadata": {
        "id": "8649ad18-10c0-4fb0-92cc-052e2ab75342"
      },
      "source": [
        "### Strategies we used:\n",
        "- JSON output: For facilitating downstream tasks, JSON format output is frequently preferred. We can enable the JSON mode by setting the response_format to `{\"type\": \"json_object\"}` and specify in the prompt that “You will only respond with a JSON object with the key Summary and Confidence.” Specifying these keys within the JSON object is beneficial for clarity and consistency.\n",
        "- Higher Temperature: In this example, we increase the temperature score to encourage the model to be more creative and output three generated summaries that are different from each other.  \n",
        "\n",
        "\n",
        "## Introduce an evaluation step\n",
        "We can also add a second step in the prompt for evaluation.\n"
      ]
    },
    {
      "cell_type": "code",
      "execution_count": null,
      "id": "6300a485-43be-4bc4-9088-9e6c2a365b6c",
      "metadata": {
        "colab": {
          "base_uri": "https://localhost:8080/"
        },
        "id": "6300a485-43be-4bc4-9088-9e6c2a365b6c",
        "outputId": "7c36246c-8518-4455-e4a9-06e3735b313f"
      },
      "outputs": [
        {
          "name": "stdout",
          "output_type": "stream",
          "text": [
            "Step 1:\n",
            "\n",
            "Summary 1: This essay recounts the author's diverse experiences in writing, programming, and painting, and how these pursuits intertwined throughout their life. The author describes their journey from writing short stories to programming on early computers, and their eventual focus on Lisp hacking and painting.\n",
            "\n",
            "Summary 2: In this essay, the author shares their personal journey through various interests and careers, including writing, programming, and art. They discuss their experiences with early computing, their love for Lisp programming, and their eventual decision to pursue art, leading to their time at art schools in the US and Italy.\n",
            "\n",
            "Summary 3: The author of this essay chronicles their life's exploration of writing, programming, and art. They delve into their early experiences with writing and programming, their affinity for Lisp, and their pursuit of art, which led them to study at different art institutions and live in various places.\n",
            "\n",
            "Step 2:\n",
            "\n",
            "The best summary among the three is Summary 1. This summary provides a clear and concise overview of the author's experiences in writing, programming, and painting. It captures the key points of the essay, such as the author's journey from writing short stories to programming on early computers, and their eventual focus on Lisp hacking and painting. The summary is relevant to the speech content and presents the information in a coherent manner.\n"
          ]
        }
      ],
      "source": [
        "message = f\"\"\"\n",
        "You are given an essay text and need to provide summaries and evaluate them.\n",
        "\n",
        "# Essay:\n",
        "{essay}\n",
        "\n",
        "Step 1: In this step, provide three short summaries of the given essay. Each summary should be clear, concise, and capture the key points of the speech. Aim for around 2-3 sentences for each summary.\n",
        "Step 2: Evaluate the three summaries from Step 1 and rate which one you believe is the best. Explain your choice by pointing out specific reasons such as clarity, completeness, and relevance to the speech content.\n",
        "\n",
        "\n",
        "\"\"\"\n",
        "print(run_mistral(message))"
      ]
    },
    {
      "cell_type": "markdown",
      "id": "ba076c25-9536-4ba1-a730-0a3ce6fe24f0",
      "metadata": {
        "id": "ba076c25-9536-4ba1-a730-0a3ce6fe24f0"
      },
      "source": [
        "## Employ another LLM for evaluation\n",
        "In production systems, it is common to employ another LLM for evaluation so that the evaluation step can be separate from the generation step.  \n",
        "\n",
        "- Step 1: use the first LLM to generate three summaries\n",
        "\n"
      ]
    },
    {
      "cell_type": "code",
      "execution_count": null,
      "id": "d5265085-77fd-433a-8d9d-d89ffac76543",
      "metadata": {
        "id": "d5265085-77fd-433a-8d9d-d89ffac76543"
      },
      "outputs": [],
      "source": [
        "message = f\"\"\"\n",
        "Provide three short summaries of the given essay. Each summary should be clear, concise, and capture the key points of the essay.\n",
        "Aim for around 2-3 sentences for each summary.\n",
        "\n",
        "# essay:\n",
        "{essay}\n",
        "\n",
        "\"\"\"\n",
        "summaries = run_mistral(message)"
      ]
    },
    {
      "cell_type": "code",
      "execution_count": null,
      "id": "4372a9fe-d596-4f36-86c6-3e3c01c74c38",
      "metadata": {
        "colab": {
          "base_uri": "https://localhost:8080/"
        },
        "id": "4372a9fe-d596-4f36-86c6-3e3c01c74c38",
        "outputId": "6d15dd31-c8ba-4d52-afb8-a29a95d58c88"
      },
      "outputs": [
        {
          "name": "stdout",
          "output_type": "stream",
          "text": [
            "1. The author recounts their experiences with writing and programming before college, describing their early attempts at writing short stories and their first forays into programming on an IBM 1401 using Fortran. They remember being puzzled by the limited capabilities of the machine and not being able to do much with it.\n",
            "2. The author discusses how the advent of microcomputers changed their programming experience, allowing for more interactivity and direct response to keystrokes. They remember being impressed and envious of a friend who built a microcomputer kit and was able to type programs directly into the computer. The author eventually convinced their father to buy a TRS-80, which they used to write simple games, a program to predict model rocket trajectories, and a word processor.\n",
            "3. The author describes their college experience, during which they originally planned to study philosophy but ultimately switched to AI after finding philosophy classes boring. They were drawn to AI by a novel featuring an intelligent computer and a documentary about a natural language processing program called SHRDLU. Despite not having any classes in AI at their college, they began teaching themselves Lisp and working on a project to reverse-engineer SHRDLU. They chose \"Artificial Intelligence\" as their major, but were dismayed to find that it was printed with scare quotes on their diploma.\n",
            "\n",
            "------------\n",
            "\n",
            "1. The author writes about their early experiences with writing and programming before college. They attempted to write short stories, but found they lacked plot and depth. In 9th grade, they started programming on an IBM 1401, using an early version of Fortran. They had to type programs on punch cards and run them on a machine that printed the results. However, the author found it difficult to figure out what to do with the computer, as they had no data to input and did not know enough math to do complex calculations.\n",
            "2. The author discusses how the introduction of microcomputers changed the way they thought about programming. Unlike the IBM 1401, microcomputers could respond to keystrokes in real-time and did not require punch cards. The author's friend built a microcomputer from a kit, and the author was impressed by the ability to type programs directly into the computer. The author eventually convinced their father to buy a TRS-80 microcomputer, which they used to write simple games, a program to predict the trajectory of model rockets, and a word processor for their father.\n",
            "3. The author describes their college experience and their initial plan to study philosophy. However, they found philosophy classes boring and decided to switch to artificial intelligence (AI). They were inspired by a novel called \"The Moon is a Harsh Mistress\" and a documentary about a natural language processing program called SHRDLU. The author began teaching themselves Lisp, as it was the language of AI at the time, and worked on a project to reverse-engineer SHRDLU. Despite choosing \"Artificial Intelligence\" as their major, the author was disappointed to find that it was printed with scare quotes on their diploma.\n",
            "\n",
            "----------\n",
            "\n",
            "1. In this essay, the author recounts their experiences with writing and programming before college. They attempted to write short stories but found them lacking in plot and depth. In 9th grade, they began programming on an IBM 1401 using an early version of Fortran. They struggled to figure out what to do with the computer, as they lacked data to input and mathematical knowledge for complex calculations.\n",
            "2. The author describes the impact of microcomputers on their programming experience. Unlike the IBM 1401, microcomputers could respond to keystrokes in real-time, eliminating the need for punch cards. The author's friend built a microcomputer from a kit, and the author was impressed by the ability to type programs directly into the machine. The author convinced their father to buy a TRS-80 microcomputer, which they used to write simple games, a program to predict the trajectory of model rockets, and a word processor.\n",
            "3. The author discusses their college experience and their initial plan to study philosophy. However, they found philosophy classes uninteresting and decided to switch to artificial intelligence (AI). They were influenced by a novel called \"The Moon is a Harsh Mistress\" and a documentary about a natural language processing program called SHRDLU. The author taught themselves Lisp and worked on a project to reverse-engineer SHRDLU. Despite choosing \"Artificial Intelligence\" as their major, the author was dismayed to find that it was printed with scare quotes on their diploma.\n"
          ]
        }
      ],
      "source": [
        "print(summaries)"
      ]
    },
    {
      "cell_type": "markdown",
      "id": "58fd5f25-ab9a-4547-83ab-48638517b7ef",
      "metadata": {
        "id": "58fd5f25-ab9a-4547-83ab-48638517b7ef"
      },
      "source": [
        "- Step 2: use another LLM to rate the generated summaries\n"
      ]
    },
    {
      "cell_type": "code",
      "execution_count": null,
      "id": "b755adc8-c277-4421-8925-3d70e5ee39e7",
      "metadata": {
        "colab": {
          "base_uri": "https://localhost:8080/"
        },
        "id": "b755adc8-c277-4421-8925-3d70e5ee39e7",
        "outputId": "bd4c389d-b703-47b7-f4a8-42507183c52a"
      },
      "outputs": [
        {
          "name": "stdout",
          "output_type": "stream",
          "text": [
            "All three summaries accurately capture the main points of the essay, but the third summary is the best. It is the most clear and concise, providing a succinct overview of the author's experiences with writing and programming before college, the impact of microcomputers on their programming experience, and their college experience and decision to switch to artificial intelligence. The third summary also effectively uses specific details from the essay to illustrate the author's experiences and decisions, making it the most complete and relevant to the essay content.\n"
          ]
        }
      ],
      "source": [
        "message = f\"\"\"\n",
        "You are given an essay and three summaries of the essay. Evaluate the three summaries and rate which one you believe is the best.\n",
        "Explain your choice by pointing out specific reasons such as clarity, completeness, and relevance to the essay content.\n",
        "\n",
        "# Essay:\n",
        "{essay}\n",
        "\n",
        "# Summaries\n",
        "{summaries}\n",
        "\n",
        "\"\"\"\n",
        "print(run_mistral(message))"
      ]
    },
    {
      "cell_type": "markdown",
      "id": "3e96d61a-9dbc-4f8c-9d80-d2260c5f3e61",
      "metadata": {
        "id": "3e96d61a-9dbc-4f8c-9d80-d2260c5f3e61"
      },
      "source": [
        "### Strategies we used:\n",
        "- **LLM chaining**: In this example, we chain two LLMs in a sequence, where the output from the first LLM serves as the input for the second LLM. The method of chaining LLMs can be adapted to suit your specific use cases. For instance, you might choose to employ three LLMs in a chain, where the output of two LLMs is funneled into the third LLM. While LLM chaining offers flexibility, it's important to consider that it may result in additional API calls and potentially increased costs.\n",
        "\n",
        "\n"
      ]
    }
  ],
  "metadata": {
    "colab": {
      "provenance": []
    },
    "jupytext": {
      "formats": "ipynb,py:light"
    },
    "kernelspec": {
      "display_name": "Python 3 (ipykernel)",
      "language": "python",
      "name": "python3"
    },
    "language_info": {
      "codemirror_mode": {
        "name": "ipython",
        "version": 3
      },
      "file_extension": ".py",
      "mimetype": "text/x-python",
      "name": "python",
      "nbconvert_exporter": "python",
      "pygments_lexer": "ipython3",
      "version": "3.10.0"
    }
  },
  "nbformat": 4,
  "nbformat_minor": 5
}